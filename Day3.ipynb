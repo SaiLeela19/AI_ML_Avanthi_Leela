{
  "nbformat": 4,
  "nbformat_minor": 0,
  "metadata": {
    "colab": {
      "provenance": [],
      "authorship_tag": "ABX9TyOXvH7B2kzlWBAHyCY5r2tR",
      "include_colab_link": true
    },
    "kernelspec": {
      "name": "python3",
      "display_name": "Python 3"
    },
    "language_info": {
      "name": "python"
    }
  },
  "cells": [
    {
      "cell_type": "markdown",
      "metadata": {
        "id": "view-in-github",
        "colab_type": "text"
      },
      "source": [
        "<a href=\"https://colab.research.google.com/github/SaiLeela19/AI_ML_Avanthi_Leela/blob/main/Day3.ipynb\" target=\"_parent\"><img src=\"https://colab.research.google.com/assets/colab-badge.svg\" alt=\"Open In Colab\"/></a>"
      ]
    },
    {
      "cell_type": "code",
      "execution_count": 11,
      "metadata": {
        "colab": {
          "base_uri": "https://localhost:8080/"
        },
        "id": "fMsiuf6SjQYH",
        "outputId": "3c291480-520c-4a1d-c5ab-6afea6c0fdc3"
      },
      "outputs": [
        {
          "output_type": "stream",
          "name": "stdout",
          "text": [
            "enter marks56\n",
            "D Grade\n",
            "enter marks67\n",
            "c Grade\n",
            "enter marks45\n",
            "fail\n",
            "enter marks23\n",
            "fail\n",
            "enter marks92\n",
            "o Grade\n"
          ]
        }
      ],
      "source": [
        "\n",
        "\n",
        "def grades():\n",
        "  for i in range(5):\n",
        "      marks = int(input(\"enter marks\"))\n",
        "      if marks >= 90:\n",
        "           print(\"o Grade\")\n",
        "      elif marks < 90 and marks >= 80:\n",
        "           print(\"A Grade\")\n",
        "      elif marks < 80 and marks >= 70:\n",
        "           print(\"B Grade\")\n",
        "      elif marks < 70 and marks >= 60:\n",
        "           print(\"c Grade\")\n",
        "      elif marks < 60 and marks >= 50:\n",
        "           print(\"D Grade\")\n",
        "      else:\n",
        "          print(\"fail\")\n",
        "\n",
        "grades()"
      ]
    },
    {
      "cell_type": "code",
      "source": [
        "for i in range(4):\n",
        "  for j in range(4):\n",
        "    print(\"*\",end = \" \")\n",
        "  print('\\n')"
      ],
      "metadata": {
        "colab": {
          "base_uri": "https://localhost:8080/"
        },
        "id": "t_Z9JoSZAH1z",
        "outputId": "fe768f5e-7c0d-4941-ad16-605d9d1bc376"
      },
      "execution_count": 101,
      "outputs": [
        {
          "output_type": "stream",
          "name": "stdout",
          "text": [
            "* * * * \n",
            "\n",
            "* * * * \n",
            "\n",
            "* * * * \n",
            "\n",
            "* * * * \n",
            "\n"
          ]
        }
      ]
    },
    {
      "cell_type": "code",
      "source": [
        "for i in range(1,5):\n",
        "    for j in range(5-i):\n",
        "        print(\"*\",end = \" \")\n",
        "    print('\\n')"
      ],
      "metadata": {
        "colab": {
          "base_uri": "https://localhost:8080/"
        },
        "id": "SW1W0xRKx0Et",
        "outputId": "20ffe60d-8536-4255-aae5-21446ec78643"
      },
      "execution_count": 91,
      "outputs": [
        {
          "output_type": "stream",
          "name": "stdout",
          "text": [
            "* * * * \n",
            "\n",
            "* * * \n",
            "\n",
            "* * \n",
            "\n",
            "* \n",
            "\n"
          ]
        }
      ]
    }
  ]
}