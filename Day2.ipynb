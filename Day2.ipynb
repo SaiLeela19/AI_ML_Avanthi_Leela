{
  "nbformat": 4,
  "nbformat_minor": 0,
  "metadata": {
    "colab": {
      "provenance": [],
      "authorship_tag": "ABX9TyMevztQ21BHQG1SHnpwhoiN",
      "include_colab_link": true
    },
    "kernelspec": {
      "name": "python3",
      "display_name": "Python 3"
    },
    "language_info": {
      "name": "python"
    }
  },
  "cells": [
    {
      "cell_type": "markdown",
      "metadata": {
        "id": "view-in-github",
        "colab_type": "text"
      },
      "source": [
        "<a href=\"https://colab.research.google.com/github/SaiLeela19/AI_ML_Avanthi_Leela/blob/main/Day2.ipynb\" target=\"_parent\"><img src=\"https://colab.research.google.com/assets/colab-badge.svg\" alt=\"Open In Colab\"/></a>"
      ]
    },
    {
      "cell_type": "code",
      "execution_count": 5,
      "metadata": {
        "colab": {
          "base_uri": "https://localhost:8080/"
        },
        "id": "jMj2QsKbalw1",
        "outputId": "4b33fda4-1fbe-4072-e397-d065aa629ee7"
      },
      "outputs": [
        {
          "output_type": "stream",
          "name": "stdout",
          "text": [
            "176\n"
          ]
        }
      ],
      "source": [
        "n = [1,32,24,13,97,1,8,14,99,34,5,56,8,23]\n",
        "sum = 0\n",
        "for i in n:\n",
        "    if i%2 == 0:\n",
        "       sum += i\n",
        "print(sum)"
      ]
    },
    {
      "cell_type": "code",
      "source": [
        "1x = [3,3,5,7,7,5,3,5,5,3]\n",
        "dict={}\n",
        "distinct=set(x)\n",
        "for i in distinct:\n",
        "   dict[i]=0\n",
        "for i in range(len(x)):\n",
        "   dict[x[i]]+=1\n",
        "print(dict)"
      ],
      "metadata": {
        "colab": {
          "base_uri": "https://localhost:8080/"
        },
        "id": "kSs_j9T-q7gI",
        "outputId": "a064f9ca-2cb9-4b5b-8b5f-2ecd24457f3f"
      },
      "execution_count": 34,
      "outputs": [
        {
          "output_type": "stream",
          "name": "stdout",
          "text": [
            "{3: 4, 5: 4, 7: 2}\n"
          ]
        }
      ]
    },
    {
      "cell_type": "code",
      "source": [
        "x=[3,6,8,21,5,7,24,31,0,61]\n",
        "sum = []\n",
        "for i in range(len(x)-1):\n",
        "    sum.append(x[i] + x[i+1])\n",
        "print(sum)"
      ],
      "metadata": {
        "colab": {
          "base_uri": "https://localhost:8080/"
        },
        "id": "V3Mp9EsJt7YF",
        "outputId": "68dcac31-8a02-456b-e18e-fa1e90f61b44"
      },
      "execution_count": 47,
      "outputs": [
        {
          "output_type": "stream",
          "name": "stdout",
          "text": [
            "[9, 14, 29, 26, 12, 31, 55, 31, 61]\n"
          ]
        }
      ]
    }
  ]
}